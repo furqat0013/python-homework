{
 "cells": [
  {
   "cell_type": "code",
   "execution_count": 3,
   "metadata": {},
   "outputs": [
    {
     "name": "stdout",
     "output_type": "stream",
     "text": [
      "banana\n"
     ]
    }
   ],
   "source": [
    "fruits = ['apple', 'orange', 'banana', 'cherry', 'lemon']\n",
    "print(fruits[2])"
   ]
  },
  {
   "cell_type": "code",
   "execution_count": 6,
   "metadata": {},
   "outputs": [
    {
     "data": {
      "text/plain": [
       "[1, 3, 5, 7, 8, 2, 4, 6, 9]"
      ]
     },
     "execution_count": 6,
     "metadata": {},
     "output_type": "execute_result"
    }
   ],
   "source": [
    "first_list = [1, 3, 5, 7, 8]\n",
    "second_list = [2, 4, 6, 9]\n",
    "first_list.extend(second_list)\n",
    "first_list"
   ]
  },
  {
   "cell_type": "code",
   "execution_count": 1,
   "metadata": {},
   "outputs": [
    {
     "name": "stdout",
     "output_type": "stream",
     "text": [
      "[10, 40, 70]\n"
     ]
    }
   ],
   "source": [
    "numbers = [10, 20, 30, 40, 50, 60, 70]\n",
    "num = [numbers[0], numbers[int(len(numbers)/2)], numbers[-1]]\n",
    "print(num)"
   ]
  },
  {
   "cell_type": "code",
   "execution_count": null,
   "metadata": {},
   "outputs": [
    {
     "name": "stdout",
     "output_type": "stream",
     "text": [
      "<class 'list'>\n",
      "('The Godfather', 'Harry Potter', 'Intouchables', 'Home alone', 'Interstellar')\n",
      "<class 'tuple'>\n"
     ]
    }
   ],
   "source": [
    "movies = ['The Godfather', 'Harry Potter', 'Intouchables', 'Home alone', 'Interstellar']\n",
    "print(type(movies))\n",
    "m_tuple = tuple(movies)\n",
    "print(m_tuple)\n",
    "print(type(m_tuple))"
   ]
  },
  {
   "cell_type": "code",
   "execution_count": 19,
   "metadata": {},
   "outputs": [
    {
     "name": "stdout",
     "output_type": "stream",
     "text": [
      "['London', 'Tashkent', 'Paris', 'Moscow', 'New York']\n"
     ]
    }
   ],
   "source": [
    "cities = ['London', 'Tashkent', 'Paris', 'Moscow', 'New York']\n",
    "if 'Paris' in cities:\n",
    "    print(cities)\n",
    "else:\n",
    "    print('There is no this city')"
   ]
  },
  {
   "cell_type": "code",
   "execution_count": 23,
   "metadata": {},
   "outputs": [
    {
     "name": "stdout",
     "output_type": "stream",
     "text": [
      "[1, 2, 3, 4, 5, 6]\n",
      "[1, 2, 3, 4, 5, 6]\n"
     ]
    }
   ],
   "source": [
    "list_numbers = [1, 2, 3, 4, 5, 6]\n",
    "dup_num = list_numbers.copy()\n",
    "print(dup_num)\n",
    "print(list_numbers)"
   ]
  },
  {
   "cell_type": "code",
   "execution_count": 32,
   "metadata": {},
   "outputs": [
    {
     "name": "stdout",
     "output_type": "stream",
     "text": [
      "[6, 2, 3, 4, 5, 1]\n"
     ]
    }
   ],
   "source": [
    "list_numbers = [1, 2, 3, 4, 5, 6]\n",
    "list_numbers[0], list_numbers[-1] = list_numbers[-1], list_numbers[0]\n",
    "print(list_numbers)"
   ]
  },
  {
   "cell_type": "code",
   "execution_count": 40,
   "metadata": {},
   "outputs": [
    {
     "name": "stdout",
     "output_type": "stream",
     "text": [
      "(1, 2, 3, 4, 5, 6, 7, 8, 9, 10)\n",
      "(4, 5, 6, 7)\n"
     ]
    }
   ],
   "source": [
    "num_tuple = (1, 2, 3, 4, 5, 6, 7, 8 ,9, 10)\n",
    "print(num_tuple)\n",
    "print(num_tuple[3:7])"
   ]
  },
  {
   "cell_type": "code",
   "execution_count": 43,
   "metadata": {},
   "outputs": [
    {
     "name": "stdout",
     "output_type": "stream",
     "text": [
      "3\n"
     ]
    }
   ],
   "source": [
    "colors = ['red', 'blue', 'black', 'white', 'blue', 'grey', 'red', 'blue']\n",
    "print(colors.count('blue'))"
   ]
  },
  {
   "cell_type": "code",
   "execution_count": 45,
   "metadata": {},
   "outputs": [
    {
     "name": "stdout",
     "output_type": "stream",
     "text": [
      "3\n"
     ]
    }
   ],
   "source": [
    "animals = ('Jaguar', 'Elephant', 'Bear', 'Lion', 'Monkey')\n",
    "print(animals.index('Lion'))"
   ]
  },
  {
   "cell_type": "code",
   "execution_count": 48,
   "metadata": {},
   "outputs": [
    {
     "name": "stdout",
     "output_type": "stream",
     "text": [
      "(1, 2, 3, 4, 5, 6, 7, 8, 9)\n"
     ]
    }
   ],
   "source": [
    "num1 = (1, 2, 3, 4, 5)\n",
    "num2 = (6, 7, 8, 9)\n",
    "all_num = num1 + num2\n",
    "print(all_num)"
   ]
  },
  {
   "cell_type": "code",
   "execution_count": 51,
   "metadata": {},
   "outputs": [
    {
     "name": "stdout",
     "output_type": "stream",
     "text": [
      "5\n",
      "4\n"
     ]
    }
   ],
   "source": [
    "len_list = [2, 5, 7, 4, [4, 6]]\n",
    "len_tuple = (1, 2, 7, 9)\n",
    "print(len(len_list))\n",
    "print(len(len_tuple))"
   ]
  },
  {
   "cell_type": "code",
   "execution_count": 58,
   "metadata": {},
   "outputs": [
    {
     "name": "stdout",
     "output_type": "stream",
     "text": [
      "[1, 2, 3, 4, 5]\n",
      "<class 'list'>\n"
     ]
    }
   ],
   "source": [
    "five_tuple = (1, 2, 3, 4, 5)\n",
    "five_list = list(five_tuple)\n",
    "print(five_list)\n",
    "print(type(five_list))"
   ]
  },
  {
   "cell_type": "code",
   "execution_count": 61,
   "metadata": {},
   "outputs": [
    {
     "name": "stdout",
     "output_type": "stream",
     "text": [
      "8\n",
      "1\n"
     ]
    }
   ],
   "source": [
    "tuple1 = (2, 5, 1, 7, 8, 3)\n",
    "print(max(tuple1))\n",
    "print(min(tuple1))"
   ]
  },
  {
   "cell_type": "code",
   "execution_count": 63,
   "metadata": {},
   "outputs": [
    {
     "name": "stdout",
     "output_type": "stream",
     "text": [
      "('Monkey', 'Lion', 'Bear', 'Elephant', 'Jaguar')\n"
     ]
    }
   ],
   "source": [
    "animals = ('Jaguar', 'Elephant', 'Bear', 'Lion', 'Monkey')\n",
    "print(animals[-1::-1])"
   ]
  }
 ],
 "metadata": {
  "kernelspec": {
   "display_name": "Python 3",
   "language": "python",
   "name": "python3"
  },
  "language_info": {
   "codemirror_mode": {
    "name": "ipython",
    "version": 3
   },
   "file_extension": ".py",
   "mimetype": "text/x-python",
   "name": "python",
   "nbconvert_exporter": "python",
   "pygments_lexer": "ipython3",
   "version": "3.13.2"
  }
 },
 "nbformat": 4,
 "nbformat_minor": 2
}
