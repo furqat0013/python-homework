{
 "cells": [
  {
   "cell_type": "code",
   "execution_count": 4,
   "metadata": {},
   "outputs": [
    {
     "name": "stdout",
     "output_type": "stream",
     "text": [
      "Hello Kim, you are 24 years old\n"
     ]
    }
   ],
   "source": [
    "a = input('What is your name?: ')\n",
    "b = int(input('year of birth?: '))\n",
    "current_year = 2025\n",
    "age = current_year - b\n",
    "print(f'Hello {a}, you are {age} years old')"
   ]
  },
  {
   "cell_type": "code",
   "execution_count": 11,
   "metadata": {},
   "outputs": [
    {
     "name": "stdout",
     "output_type": "stream",
     "text": [
      "Lasetti\n",
      "Malibu\n"
     ]
    }
   ],
   "source": [
    "txt = 'LMaasleitbtui'\n",
    "print(txt[::2])\n",
    "print(txt[1:-1:2])"
   ]
  },
  {
   "cell_type": "code",
   "execution_count": 23,
   "metadata": {},
   "outputs": [
    {
     "name": "stdout",
     "output_type": "stream",
     "text": [
      "Matiz\n",
      "Damas\n"
     ]
    }
   ],
   "source": [
    "txt = 'MsaatmiazD'\n",
    "print(txt[::2])\n",
    "print(txt[-1:0:-2])"
   ]
  },
  {
   "cell_type": "code",
   "execution_count": 27,
   "metadata": {},
   "outputs": [
    {
     "name": "stdout",
     "output_type": "stream",
     "text": [
      "London\n"
     ]
    }
   ],
   "source": [
    "txt = \"I'am John. I am from London\"\n",
    "txt.index('from ')\n",
    "print(txt[txt.index('from ') + 5::])"
   ]
  },
  {
   "cell_type": "code",
   "execution_count": 39,
   "metadata": {},
   "outputs": [
    {
     "name": "stdout",
     "output_type": "stream",
     "text": [
      "nahtanoJ\n"
     ]
    }
   ],
   "source": [
    "a = input('username: ')\n",
    "print(a[-1::-1])"
   ]
  },
  {
   "cell_type": "code",
   "execution_count": 3,
   "metadata": {},
   "outputs": [
    {
     "name": "stdout",
     "output_type": "stream",
     "text": [
      "7\n"
     ]
    }
   ],
   "source": [
    "vowels = ['a','e','i','o','u']\n",
    "word = 'hello good evening'\n",
    "a = 0\n",
    "for i in word:\n",
    "    if i in vowels:\n",
    "        a += 1\n",
    "print(a)"
   ]
  },
  {
   "cell_type": "code",
   "execution_count": null,
   "metadata": {},
   "outputs": [
    {
     "name": "stdout",
     "output_type": "stream",
     "text": [
      "8\n"
     ]
    }
   ],
   "source": [
    "a = input('write list of numbers separated by space').split()\n",
    "print(max(a))"
   ]
  },
  {
   "cell_type": "code",
   "execution_count": 77,
   "metadata": {},
   "outputs": [
    {
     "name": "stdout",
     "output_type": "stream",
     "text": [
      "forward bob, backward bob\n",
      "Palindrome\n"
     ]
    }
   ],
   "source": [
    "a = input('is this word palindrom?: ')\n",
    "print(f'forward {a}, backward {a[::-1]}')\n",
    "if a==a[::-1]:\n",
    "    print('Palindrome')\n",
    "else:\n",
    "    print('Not a palindrome')"
   ]
  },
  {
   "cell_type": "code",
   "execution_count": 90,
   "metadata": {},
   "outputs": [
    {
     "name": "stdout",
     "output_type": "stream",
     "text": [
      "@gmail.com\n"
     ]
    }
   ],
   "source": [
    "useremail = input('write your email like john@gmail.com: ')\n",
    "print(useremail[useremail.index('@')::1])"
   ]
  },
  {
   "cell_type": "code",
   "execution_count": 1,
   "metadata": {},
   "outputs": [
    {
     "name": "stdout",
     "output_type": "stream",
     "text": [
      " 9 l 3 & D @ C 4 z\n"
     ]
    }
   ],
   "source": [
    "import random\n",
    "letters = ('A, b, C, D, e, f, l, G, m, z').split(',')\n",
    "digits = ('1, 6, 7, 9, 4, 5, 2, 3').split(',')\n",
    "symbols = ('!, @, #, $, %, &').split(',')\n",
    "\n",
    "l = int(input('how many letters'))\n",
    "d = int(input('how many digits'))\n",
    "s = int(input('how many symbols'))\n",
    "\n",
    "ls = random.choices(letters, k=l)\n",
    "ds = random.choices(digits, k=d)\n",
    "ss = random.choices(symbols, k=s)\n",
    "p = ls+ds+ss\n",
    "random.shuffle(p)\n",
    "print(''.join(p))"
   ]
  }
 ],
 "metadata": {
  "kernelspec": {
   "display_name": "Python 3",
   "language": "python",
   "name": "python3"
  },
  "language_info": {
   "codemirror_mode": {
    "name": "ipython",
    "version": 3
   },
   "file_extension": ".py",
   "mimetype": "text/x-python",
   "name": "python",
   "nbconvert_exporter": "python",
   "pygments_lexer": "ipython3",
   "version": "3.13.2"
  }
 },
 "nbformat": 4,
 "nbformat_minor": 2
}
